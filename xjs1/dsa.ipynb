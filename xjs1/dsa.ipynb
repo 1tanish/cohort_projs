{
 "cells": [
  {
   "cell_type": "code",
   "execution_count": 1,
   "id": "d35119d5",
   "metadata": {},
   "outputs": [],
   "source": [
    "let n = 100;"
   ]
  },
  {
   "cell_type": "code",
   "execution_count": 2,
   "id": "8057e3cf",
   "metadata": {},
   "outputs": [],
   "source": [
    "function isPrime(i) {\n",
    "    for (let j = 3; j <= Math.sqrt(i); j += 2) {\n",
    "      let bool= i%j==0 || i%2==0  ? 1 : 0;\n",
    "      return bool\n",
    "    }\n",
    "  }"
   ]
  },
  {
   "cell_type": "code",
   "execution_count": 3,
   "id": "884ca433",
   "metadata": {},
   "outputs": [],
   "source": [
    "function PrimeNos(n){\n",
    "    let prime = [];\n",
    "    for (let i = 2; i <= n; i++) {\n",
    "      if (isPrime(i) != 1) {\n",
    "        prime.push(i);\n",
    "      }\n",
    "    }\n",
    "    console.log(prime);\n",
    "  }"
   ]
  },
  {
   "cell_type": "code",
   "execution_count": 4,
   "id": "a8eeefef",
   "metadata": {},
   "outputs": [
    {
     "name": "stdout",
     "output_type": "stream",
     "text": [
      "[\n",
      "   2,  3,  4,  5,  6,  7,  8, 11, 13, 17,\n",
      "  19, 23, 25, 29, 31, 35, 37, 41, 43, 47,\n",
      "  49, 53, 55, 59, 61, 65, 67, 71, 73, 77,\n",
      "  79, 83, 85, 89, 91, 95, 97\n",
      "]\n"
     ]
    }
   ],
   "source": [
    "PrimeNos(n)"
   ]
  },
  {
   "cell_type": "markdown",
   "id": "7bd8a796",
   "metadata": {},
   "source": [
    "Strong Number is a no. which is equal to the sum of the factorial of it digits"
   ]
  },
  {
   "cell_type": "code",
   "execution_count": 1,
   "id": "ec749647",
   "metadata": {},
   "outputs": [],
   "source": [
    "function isStrongNumber(n) {\n",
    "    let x=n\n",
    "    let s=0;\n",
    "    while(n){\n",
    "        let p=1\n",
    "        for (var i = n%10; i > 1; i--) {\n",
    "            p*=i\n",
    "            }\n",
    "        s+=p;\n",
    "        n=Math.floor(n/10);\n",
    "    }\n",
    "    if(x==s){return \"Yes\"}\n",
    "    else{return \"No\"}\n",
    "  }"
   ]
  },
  {
   "cell_type": "code",
   "execution_count": 7,
   "id": "18f9dd66",
   "metadata": {},
   "outputs": [
    {
     "name": "stdout",
     "output_type": "stream",
     "text": [
      "1\n",
      "2\n",
      "145\n",
      "40585\n"
     ]
    },
    {
     "data": {
      "text/plain": [
       "\u001b[1mnull\u001b[22m"
      ]
     },
     "execution_count": 7,
     "metadata": {},
     "output_type": "execute_result"
    }
   ],
   "source": [
    "let n=150000000\n",
    "for(let i=1;i<=n;i++){isStrongNumber(i)==\"Yes\"?console.log(i):null}"
   ]
  },
  {
   "cell_type": "markdown",
   "id": "42402495",
   "metadata": {},
   "source": [
    "Automorphic = those no. which when squared contain the same num at last (25 -> 6'25')"
   ]
  },
  {
   "cell_type": "code",
   "execution_count": 8,
   "id": "9bf138e5",
   "metadata": {},
   "outputs": [],
   "source": [
    "function isAutomorphic(n) {\n",
    "  let x= String(n).length\n",
    "  let bool = (n*n)%Math.pow(10,x)==n?1:0\n",
    "  if (bool) {return \"Yes\"\n",
    "  }\n",
    "  else{return \"No\"}\n",
    "}"
   ]
  },
  {
   "cell_type": "code",
   "execution_count": 9,
   "id": "7af6a0da",
   "metadata": {},
   "outputs": [
    {
     "name": "stdout",
     "output_type": "stream",
     "text": [
      "Yes\n"
     ]
    }
   ],
   "source": [
    "console.log(isAutomorphic(25));\n"
   ]
  },
  {
   "cell_type": "markdown",
   "id": "66605eca",
   "metadata": {},
   "source": [
    "number guessing probability"
   ]
  },
  {
   "cell_type": "code",
   "execution_count": 2,
   "id": "1dfb3d9b",
   "metadata": {},
   "outputs": [],
   "source": [
    "function guessTheNum(n){\n",
    "    let x=Math.ceil(Math.random()*6)\n",
    "    let bool = n==x?1:0;\n",
    "    return [bool,x]\n",
    "}"
   ]
  },
  {
   "cell_type": "code",
   "execution_count": 38,
   "id": "20c1bb63",
   "metadata": {},
   "outputs": [
    {
     "name": "stdout",
     "output_type": "stream",
     "text": [
      "16.6944%\n"
     ]
    }
   ],
   "source": [
    "let n = 3;\n",
    "let rolls = 1000000;\n",
    "let s = 0;\n",
    "for (let i = 0; i < rolls; i++) {\n",
    "    let arr = guessTheNum(n);\n",
    "    arr[0] == 1 ? s++ : null;\n",
    "}\n",
    "console.log(`${(s * 100) / rolls}%`);\n"
   ]
  },
  {
   "cell_type": "markdown",
   "id": "6e840591",
   "metadata": {},
   "source": [
    "Patterns*********************"
   ]
  },
  {
   "cell_type": "code",
   "execution_count": null,
   "id": "5bd586de",
   "metadata": {},
   "outputs": [],
   "source": []
  },
  {
   "cell_type": "markdown",
   "id": "4b2bf068",
   "metadata": {},
   "source": []
  }
 ],
 "metadata": {
  "kernelspec": {
   "display_name": "Deno",
   "language": "typescript",
   "name": "deno"
  },
  "language_info": {
   "codemirror_mode": "typescript",
   "file_extension": ".ts",
   "mimetype": "text/x.typescript",
   "name": "typescript",
   "nbconvert_exporter": "script",
   "pygments_lexer": "typescript",
   "version": "5.7.3"
  }
 },
 "nbformat": 4,
 "nbformat_minor": 5
}
